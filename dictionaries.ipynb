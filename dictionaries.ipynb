{
  "nbformat": 4,
  "nbformat_minor": 0,
  "metadata": {
    "colab": {
      "name": "dictionaries.ipynb",
      "provenance": [],
      "authorship_tag": "ABX9TyOeFdng2I5p3OT9rGwBhvae",
      "include_colab_link": true
    },
    "kernelspec": {
      "name": "python3",
      "display_name": "Python 3"
    },
    "language_info": {
      "name": "python"
    }
  },
  "cells": [
    {
      "cell_type": "markdown",
      "metadata": {
        "id": "view-in-github",
        "colab_type": "text"
      },
      "source": [
        "<a href=\"https://colab.research.google.com/github/Murali090/Assignments-submission/blob/module-2/dictionaries.ipynb\" target=\"_parent\"><img src=\"https://colab.research.google.com/assets/colab-badge.svg\" alt=\"Open In Colab\"/></a>"
      ]
    },
    {
      "cell_type": "code",
      "execution_count": null,
      "metadata": {
        "colab": {
          "base_uri": "https://localhost:8080/"
        },
        "id": "vWCJjTa2BIbI",
        "outputId": "88dd4465-eecf-42cb-b403-5e812f44a0f5"
      },
      "outputs": [
        {
          "output_type": "stream",
          "name": "stdout",
          "text": [
            "{'name': 'muralidhar', 'age': 18, 'college or university': 'GITAM', 'class': 'a', 'fruits': ['apple', 'orange', 'black bery']}\n",
            "18\n",
            "GITAM\n",
            "5\n",
            "muralidhar\n",
            "name\n",
            "age\n",
            "college or university\n",
            "class\n",
            "fruits\n",
            "muralidhar\n",
            "dict_keys(['name', 'age', 'college or university', 'class', 'fruits'])\n"
          ]
        }
      ],
      "source": [
        "a={\n",
        "    'name':'muralidhar',\n",
        "    'age': 18,  #duplicates are over written.\n",
        "    'college or university':'GITAM',\n",
        "    'class':'a',\n",
        "    'fruits':['apple','orange','black bery']\n",
        "}\n",
        "print(a)\n",
        "\n",
        "print(a['age'])\n",
        "print(a['college or university'])\n",
        "print(len(a))\n",
        "b=a['name']\n",
        "print(b)\n",
        "for x in a:\n",
        "  print(x)\n",
        "print(a['name'])\n",
        "c=a.keys()\n",
        "print(c)\n",
        "             "
      ]
    },
    {
      "cell_type": "code",
      "source": [
        "a={\n",
        "    \"name\":str(input()),\n",
        "    'age' : 18,\n",
        "    'college name': 'GITAM',\n",
        "}\n",
        "print(a)\n",
        "print(len(a))\n",
        "print(type(a))\n",
        "b=a['age']\n",
        "print(b)"
      ],
      "metadata": {
        "id": "cKjrbs93Q0bP",
        "colab": {
          "base_uri": "https://localhost:8080/"
        },
        "outputId": "6315e40f-45fc-4fd5-da74-5663711c6782"
      },
      "execution_count": null,
      "outputs": [
        {
          "output_type": "stream",
          "name": "stdout",
          "text": [
            "g\n",
            "{'name': 'g', 'age': 18, 'college name': 'GITAM'}\n",
            "3\n",
            "<class 'dict'>\n",
            "18\n"
          ]
        }
      ]
    },
    {
      "cell_type": "code",
      "source": [
        ""
      ],
      "metadata": {
        "id": "eKAazolo7wjx"
      },
      "execution_count": null,
      "outputs": []
    }
  ]
}